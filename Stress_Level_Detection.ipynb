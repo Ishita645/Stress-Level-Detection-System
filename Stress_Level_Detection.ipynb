{
 "cells": [
  {
   "cell_type": "markdown",
   "metadata": {},
   "source": [
    "### We use decision tree for imputation, LR and Random forest for prediction"
   ]
  },
  {
   "cell_type": "code",
   "execution_count": 7,
   "metadata": {
    "id": "pfk9wWslcQzH"
   },
   "outputs": [],
   "source": [
    "import pandas as pd\n",
    "import numpy as np\n",
    "import datetime as dt\n",
    "import matplotlib.pyplot as plt\n",
    "import seaborn as sns\n",
    "import numpy as np"
   ]
  },
  {
   "cell_type": "code",
   "execution_count": 8,
   "metadata": {
    "colab": {
     "base_uri": "https://localhost:8080/",
     "height": 206
    },
    "id": "K2ySjlA-cQzS",
    "outputId": "1e683d61-ab89-4207-da5b-3d9bbd3bca8d"
   },
   "outputs": [
    {
     "data": {
      "text/html": [
       "<div>\n",
       "<style scoped>\n",
       "    .dataframe tbody tr th:only-of-type {\n",
       "        vertical-align: middle;\n",
       "    }\n",
       "\n",
       "    .dataframe tbody tr th {\n",
       "        vertical-align: top;\n",
       "    }\n",
       "\n",
       "    .dataframe thead th {\n",
       "        text-align: right;\n",
       "    }\n",
       "</style>\n",
       "<table border=\"1\" class=\"dataframe\">\n",
       "  <thead>\n",
       "    <tr style=\"text-align: right;\">\n",
       "      <th></th>\n",
       "      <th>body_temperature</th>\n",
       "      <th>limb_movement</th>\n",
       "      <th>Blood_oxygen</th>\n",
       "      <th>Sleeping_hours</th>\n",
       "      <th>Heart_rate</th>\n",
       "      <th>Stress_level</th>\n",
       "    </tr>\n",
       "  </thead>\n",
       "  <tbody>\n",
       "    <tr>\n",
       "      <th>0</th>\n",
       "      <td>91.840</td>\n",
       "      <td>16.600</td>\n",
       "      <td>89.840</td>\n",
       "      <td>1.840</td>\n",
       "      <td>74.20</td>\n",
       "      <td>3</td>\n",
       "    </tr>\n",
       "    <tr>\n",
       "      <th>1</th>\n",
       "      <td>91.552</td>\n",
       "      <td>15.880</td>\n",
       "      <td>89.552</td>\n",
       "      <td>1.552</td>\n",
       "      <td>72.76</td>\n",
       "      <td>3</td>\n",
       "    </tr>\n",
       "    <tr>\n",
       "      <th>2</th>\n",
       "      <td>96.000</td>\n",
       "      <td>10.000</td>\n",
       "      <td>95.000</td>\n",
       "      <td>7.000</td>\n",
       "      <td>60.00</td>\n",
       "      <td>1</td>\n",
       "    </tr>\n",
       "    <tr>\n",
       "      <th>3</th>\n",
       "      <td>90.768</td>\n",
       "      <td>13.920</td>\n",
       "      <td>88.768</td>\n",
       "      <td>0.768</td>\n",
       "      <td>68.84</td>\n",
       "      <td>3</td>\n",
       "    </tr>\n",
       "    <tr>\n",
       "      <th>4</th>\n",
       "      <td>97.872</td>\n",
       "      <td>6.496</td>\n",
       "      <td>96.248</td>\n",
       "      <td>8.248</td>\n",
       "      <td>53.12</td>\n",
       "      <td>0</td>\n",
       "    </tr>\n",
       "  </tbody>\n",
       "</table>\n",
       "</div>"
      ],
      "text/plain": [
       "   body_temperature  limb_movement  Blood_oxygen  Sleeping_hours  Heart_rate  \\\n",
       "0            91.840         16.600        89.840           1.840       74.20   \n",
       "1            91.552         15.880        89.552           1.552       72.76   \n",
       "2            96.000         10.000        95.000           7.000       60.00   \n",
       "3            90.768         13.920        88.768           0.768       68.84   \n",
       "4            97.872          6.496        96.248           8.248       53.12   \n",
       "\n",
       "   Stress_level  \n",
       "0             3  \n",
       "1             3  \n",
       "2             1  \n",
       "3             3  \n",
       "4             0  "
      ]
     },
     "execution_count": 8,
     "metadata": {},
     "output_type": "execute_result"
    }
   ],
   "source": [
    "pillow = pd.read_csv(\"SaYoPillow.csv\")\n",
    "pillow.head()"
   ]
  },
  {
   "cell_type": "code",
   "execution_count": 9,
   "metadata": {
    "colab": {
     "base_uri": "https://localhost:8080/"
    },
    "id": "h4ZK5Eo7cQzT",
    "outputId": "bf2caeab-388a-4f26-b305-fab75450b612"
   },
   "outputs": [
    {
     "data": {
      "text/plain": [
       "(630, 6)"
      ]
     },
     "execution_count": 9,
     "metadata": {},
     "output_type": "execute_result"
    }
   ],
   "source": [
    "pillow.shape"
   ]
  },
  {
   "cell_type": "code",
   "execution_count": 10,
   "metadata": {
    "colab": {
     "base_uri": "https://localhost:8080/"
    },
    "id": "ZQ8KooKkcQzU",
    "outputId": "efa5f46d-ba72-4b8d-9c62-fde1fdd5d6da"
   },
   "outputs": [
    {
     "data": {
      "text/plain": [
       "0"
      ]
     },
     "execution_count": 10,
     "metadata": {},
     "output_type": "execute_result"
    }
   ],
   "source": [
    "pillow.isnull().values.sum()"
   ]
  },
  {
   "cell_type": "code",
   "execution_count": 11,
   "metadata": {
    "colab": {
     "base_uri": "https://localhost:8080/"
    },
    "id": "f5oQZSXBcQzV",
    "outputId": "56190e0b-093c-423a-d43c-1daab8799d2a"
   },
   "outputs": [
    {
     "data": {
      "text/plain": [
       "0"
      ]
     },
     "execution_count": 11,
     "metadata": {},
     "output_type": "execute_result"
    }
   ],
   "source": [
    "pillow.duplicated().sum()"
   ]
  },
  {
   "cell_type": "code",
   "execution_count": 12,
   "metadata": {
    "colab": {
     "base_uri": "https://localhost:8080/"
    },
    "id": "bJYfzmEkcQzV",
    "outputId": "0382c6c9-e560-486c-f330-63b4dbf0828a"
   },
   "outputs": [
    {
     "data": {
      "text/plain": [
       "body_temperature    float64\n",
       "limb_movement       float64\n",
       "Blood_oxygen        float64\n",
       "Sleeping_hours      float64\n",
       "Heart_rate          float64\n",
       "Stress_level          int64\n",
       "dtype: object"
      ]
     },
     "execution_count": 12,
     "metadata": {},
     "output_type": "execute_result"
    }
   ],
   "source": [
    "pillow.dtypes"
   ]
  },
  {
   "cell_type": "code",
   "execution_count": 13,
   "metadata": {
    "colab": {
     "base_uri": "https://localhost:8080/",
     "height": 300
    },
    "id": "XlPxZwkfcQzW",
    "outputId": "b5449c7e-673c-4876-99d7-51a613b731ba"
   },
   "outputs": [
    {
     "data": {
      "text/html": [
       "<div>\n",
       "<style scoped>\n",
       "    .dataframe tbody tr th:only-of-type {\n",
       "        vertical-align: middle;\n",
       "    }\n",
       "\n",
       "    .dataframe tbody tr th {\n",
       "        vertical-align: top;\n",
       "    }\n",
       "\n",
       "    .dataframe thead th {\n",
       "        text-align: right;\n",
       "    }\n",
       "</style>\n",
       "<table border=\"1\" class=\"dataframe\">\n",
       "  <thead>\n",
       "    <tr style=\"text-align: right;\">\n",
       "      <th></th>\n",
       "      <th>body_temperature</th>\n",
       "      <th>limb_movement</th>\n",
       "      <th>Blood_oxygen</th>\n",
       "      <th>Sleeping_hours</th>\n",
       "      <th>Heart_rate</th>\n",
       "      <th>Stress_level</th>\n",
       "    </tr>\n",
       "  </thead>\n",
       "  <tbody>\n",
       "    <tr>\n",
       "      <th>count</th>\n",
       "      <td>630.00000</td>\n",
       "      <td>630.000000</td>\n",
       "      <td>630.000000</td>\n",
       "      <td>630.000000</td>\n",
       "      <td>630.000000</td>\n",
       "      <td>630.000000</td>\n",
       "    </tr>\n",
       "    <tr>\n",
       "      <th>mean</th>\n",
       "      <td>92.80000</td>\n",
       "      <td>11.700000</td>\n",
       "      <td>90.900000</td>\n",
       "      <td>3.700000</td>\n",
       "      <td>64.500000</td>\n",
       "      <td>2.000000</td>\n",
       "    </tr>\n",
       "    <tr>\n",
       "      <th>std</th>\n",
       "      <td>3.52969</td>\n",
       "      <td>4.299629</td>\n",
       "      <td>3.902483</td>\n",
       "      <td>3.054572</td>\n",
       "      <td>9.915277</td>\n",
       "      <td>1.415337</td>\n",
       "    </tr>\n",
       "    <tr>\n",
       "      <th>min</th>\n",
       "      <td>85.00000</td>\n",
       "      <td>4.000000</td>\n",
       "      <td>82.000000</td>\n",
       "      <td>0.000000</td>\n",
       "      <td>50.000000</td>\n",
       "      <td>0.000000</td>\n",
       "    </tr>\n",
       "    <tr>\n",
       "      <th>25%</th>\n",
       "      <td>90.50000</td>\n",
       "      <td>8.500000</td>\n",
       "      <td>88.500000</td>\n",
       "      <td>0.500000</td>\n",
       "      <td>56.250000</td>\n",
       "      <td>1.000000</td>\n",
       "    </tr>\n",
       "    <tr>\n",
       "      <th>50%</th>\n",
       "      <td>93.00000</td>\n",
       "      <td>11.000000</td>\n",
       "      <td>91.000000</td>\n",
       "      <td>3.500000</td>\n",
       "      <td>62.500000</td>\n",
       "      <td>2.000000</td>\n",
       "    </tr>\n",
       "    <tr>\n",
       "      <th>75%</th>\n",
       "      <td>95.50000</td>\n",
       "      <td>15.750000</td>\n",
       "      <td>94.250000</td>\n",
       "      <td>6.500000</td>\n",
       "      <td>72.500000</td>\n",
       "      <td>3.000000</td>\n",
       "    </tr>\n",
       "    <tr>\n",
       "      <th>max</th>\n",
       "      <td>99.00000</td>\n",
       "      <td>19.000000</td>\n",
       "      <td>97.000000</td>\n",
       "      <td>9.000000</td>\n",
       "      <td>85.000000</td>\n",
       "      <td>4.000000</td>\n",
       "    </tr>\n",
       "  </tbody>\n",
       "</table>\n",
       "</div>"
      ],
      "text/plain": [
       "       body_temperature  limb_movement  Blood_oxygen  Sleeping_hours  \\\n",
       "count         630.00000     630.000000    630.000000      630.000000   \n",
       "mean           92.80000      11.700000     90.900000        3.700000   \n",
       "std             3.52969       4.299629      3.902483        3.054572   \n",
       "min            85.00000       4.000000     82.000000        0.000000   \n",
       "25%            90.50000       8.500000     88.500000        0.500000   \n",
       "50%            93.00000      11.000000     91.000000        3.500000   \n",
       "75%            95.50000      15.750000     94.250000        6.500000   \n",
       "max            99.00000      19.000000     97.000000        9.000000   \n",
       "\n",
       "       Heart_rate  Stress_level  \n",
       "count  630.000000    630.000000  \n",
       "mean    64.500000      2.000000  \n",
       "std      9.915277      1.415337  \n",
       "min     50.000000      0.000000  \n",
       "25%     56.250000      1.000000  \n",
       "50%     62.500000      2.000000  \n",
       "75%     72.500000      3.000000  \n",
       "max     85.000000      4.000000  "
      ]
     },
     "execution_count": 13,
     "metadata": {},
     "output_type": "execute_result"
    }
   ],
   "source": [
    "pillow.describe()"
   ]
  },
  {
   "cell_type": "markdown",
   "metadata": {
    "id": "iUXM6UICcQzX"
   },
   "source": [
    "## Data Visualization"
   ]
  },
  {
   "cell_type": "code",
   "execution_count": 14,
   "metadata": {
    "colab": {
     "base_uri": "https://localhost:8080/",
     "height": 583
    },
    "id": "zrXm7k71cQzp",
    "outputId": "8883c24a-9ff6-42e1-a179-433a04fcdaf1"
   },
   "outputs": [
    {
     "data": {
      "image/png": "[encoded data removed]",
      "text/plain": [
       "<Figure size 576x360 with 2 Axes>"
      ]
     },
     "metadata": {
      "needs_background": "light"
     },
     "output_type": "display_data"
    }
   ],
   "source": [
    "fig, ax = plt.subplots(figsize=(8,5))\n",
    "cols=[\"body_temperature\", \"limb_movement\",\"Blood_oxygen\",\"Sleeping_hours\", \"Heart_rate\", \"Stress_level\"]\n",
    "sns.heatmap(pillow[cols].corr(), cmap=\"icefire\", annot=True, annot_kws={'size': 15})\n",
    "plt.title(\"Correlation Matrix\")\n",
    "plt.show()"
   ]
  },
  {
   "cell_type": "markdown",
   "metadata": {
    "id": "G4hhIyhScQzq"
   },
   "source": [
    "### --Stress Levels and Sleeping Hours are strongly negatively correlated. The more people sleep, the less they are likely to be stressed\n",
    "\n",
    "### --Body temperature and stress level are highly negatively correlated"
   ]
  },
  {
   "cell_type": "code",
   "execution_count": 15,
   "metadata": {
    "colab": {
     "base_uri": "https://localhost:8080/",
     "height": 529
    },
    "id": "qtYymoAccQzr",
    "outputId": "72390f5b-171c-4581-887a-57f16aa3d589"
   },
   "outputs": [
    {
     "data": {
      "image/png": "[encoded data removed]",
      "text/plain": [
       "<Figure size 360x360 with 1 Axes>"
      ]
     },
     "metadata": {
      "needs_background": "light"
     },
     "output_type": "display_data"
    }
   ],
   "source": [
    "sns.relplot(x=\"Sleeping_hours\", y=\"Stress_level\", data=pillow, kind=\"scatter\")\n",
    "plt.xlabel(\"Number of Hours Slept\")\n",
    "plt.ylabel(\"Stress Level\")\n",
    "plt.title(\"Relationship Between Sleeping Hours and Stress\")\n",
    "plt.show()"
   ]
  },
  {
   "cell_type": "markdown",
   "metadata": {
    "id": "kg5beQjIcQzr"
   },
   "source": [
    "### Here we can clearly spot the negative correlation between Stress (categorical variable) and Number of Hours Slept (continuous variable)."
   ]
  },
  {
   "cell_type": "code",
   "execution_count": 16,
   "metadata": {
    "colab": {
     "base_uri": "https://localhost:8080/",
     "height": 641
    },
    "id": "9-y-3uvncQzr",
    "outputId": "a71ad48d-e9cd-46f7-f1e8-487d094caee8"
   },
   "outputs": [
    {
     "data": {
      "image/png": "[encoded data removed]",
      "text/plain": [
       "<Figure size 504x504 with 1 Axes>"
      ]
     },
     "metadata": {
      "needs_background": "light"
     },
     "output_type": "display_data"
    }
   ],
   "source": [
    "fig, ax = plt.subplots(figsize=(7,7))\n",
    "pillow.groupby(pillow[\"Stress_level\"])[\"Sleeping_hours\"].mean().plot(kind='bar', rot=0, color='#9966cc')\n",
    "plt.title(\"Stress Levels Measured by Sleeping Hours\")\n",
    "plt.xlabel(\"Stress Levels\")\n",
    "plt.ylabel(\"Number of Hours Slept\")\n",
    "plt.show()"
   ]
  },
  {
   "cell_type": "markdown",
   "metadata": {
    "id": "a4uk4MagcQzs"
   },
   "source": [
    "#### People who sleep 8 hours on average in a single day report no or very low stress levels"
   ]
  },
  {
   "cell_type": "code",
   "execution_count": 17,
   "metadata": {
    "colab": {
     "base_uri": "https://localhost:8080/",
     "height": 641
    },
    "id": "ftZ4UXcAcQzs",
    "outputId": "4d240ca6-75d3-4ef4-8b1c-437ee513ca38"
   },
   "outputs": [
    {
     "data": {
      "image/png": "[encoded data removed]",
      "text/plain": [
       "<Figure size 504x504 with 1 Axes>"
      ]
     },
     "metadata": {
      "needs_background": "light"
     },
     "output_type": "display_data"
    }
   ],
   "source": [
    "fig, ax = plt.subplots(figsize=(7,7))\n",
    "pillow.groupby(pillow[\"Stress_level\"])[\"limb_movement\"].mean().plot(kind='bar', rot=0, color='#4b5320')\n",
    "plt.title(\"Stress Levels Measured by Limb movement\")\n",
    "plt.xlabel(\"Stress Levels\")\n",
    "plt.ylabel(\"Limb movement\")\n",
    "plt.show()"
   ]
  },
  {
   "cell_type": "markdown",
   "metadata": {
    "id": "Om_l3_9EcQzs"
   },
   "source": [
    "#### It is detected that people with high limb movement have more stress"
   ]
  },
  {
   "cell_type": "code",
   "execution_count": 18,
   "metadata": {
    "colab": {
     "base_uri": "https://localhost:8080/",
     "height": 641
    },
    "id": "J1OlUZ2wcQzt",
    "outputId": "608bf892-2c99-4466-ff06-220c3ec49d8c"
   },
   "outputs": [
    {
     "data": {
      "image/png": "[encoded data removed]",
      "text/plain": [
       "<Figure size 504x504 with 1 Axes>"
      ]
     },
     "metadata": {
      "needs_background": "light"
     },
     "output_type": "display_data"
    }
   ],
   "source": [
    "fig, ax = plt.subplots(figsize=(7,7))\n",
    "pillow.groupby(pillow[\"Stress_level\"])[\"Heart_rate\"].mean().plot(kind='bar', rot=0, color='#a52a2a')\n",
    "plt.title(\"Stress Levels Measured by heart rate\")\n",
    "plt.xlabel(\"Stress Levels\")\n",
    "plt.ylabel(\"Heart rate\")\n",
    "plt.show()"
   ]
  },
  {
   "cell_type": "markdown",
   "metadata": {
    "id": "g-wrAB97cQzt"
   },
   "source": [
    "#### Stressed people have higher heart rate, people with low or no stress have heart rate between 50-60"
   ]
  },
  {
   "cell_type": "markdown",
   "metadata": {
    "id": "XqvBXncgcQzt"
   },
   "source": [
    "## Outliers reduction"
   ]
  },
  {
   "cell_type": "code",
   "execution_count": 19,
   "metadata": {
    "colab": {
     "base_uri": "https://localhost:8080/",
     "height": 719
    },
    "id": "dxZukUincQzu",
    "outputId": "7dcf86ad-fc53-42ef-f929-208d858f1770"
   },
   "outputs": [
    {
     "name": "stderr",
     "output_type": "stream",
     "text": [
      "C:\\Users\\ishit\\anaconda3\\lib\\site-packages\\seaborn\\distributions.py:2557: FutureWarning: `distplot` is a deprecated function and will be removed in a future version. Please adapt your code to use either `displot` (a figure-level function with similar flexibility) or `histplot` (an axes-level function for histograms).\n",
      "  warnings.warn(msg, FutureWarning)\n",
      "C:\\Users\\ishit\\anaconda3\\lib\\site-packages\\seaborn\\distributions.py:2557: FutureWarning: `distplot` is a deprecated function and will be removed in a future version. Please adapt your code to use either `displot` (a figure-level function with similar flexibility) or `histplot` (an axes-level function for histograms).\n",
      "  warnings.warn(msg, FutureWarning)\n"
     ]
    },
    {
     "data": {
      "image/png": "[encoded data removed]",
      "text/plain": [
       "<Figure size 1152x360 with 2 Axes>"
      ]
     },
     "metadata": {
      "needs_background": "light"
     },
     "output_type": "display_data"
    }
   ],
   "source": [
    "plt.figure(figsize=(16,5))\n",
    "plt.subplot(1,2,1)\n",
    "sns.distplot(pillow['limb_movement'])\n",
    "plt.subplot(1,2,2)\n",
    "sns.distplot(pillow['Heart_rate'])\n",
    "plt.show()"
   ]
  },
  {
   "cell_type": "markdown",
   "metadata": {
    "id": "iKXNlprecQzu"
   },
   "source": [
    "### Applying IQR in limb movement "
   ]
  },
  {
   "cell_type": "code",
   "execution_count": 20,
   "metadata": {
    "colab": {
     "base_uri": "https://localhost:8080/"
    },
    "id": "pgdgdOcDcQzu",
    "outputId": "3a4d86d3-dbc0-4d0d-d844-354c6e5f689f"
   },
   "outputs": [
    {
     "name": "stdout",
     "output_type": "stream",
     "text": [
      "Highest allowed 24.59888744416733\n",
      "Lowest allowed -1.1988874441673119\n"
     ]
    }
   ],
   "source": [
    "print(\"Highest allowed\",pillow['limb_movement'].mean() + 3*pillow['limb_movement'].std())\n",
    "print(\"Lowest allowed\",pillow['limb_movement'].mean() - 3*pillow['limb_movement'].std())"
   ]
  },
  {
   "cell_type": "code",
   "execution_count": 21,
   "metadata": {
    "colab": {
     "base_uri": "https://localhost:8080/",
     "height": 49
    },
    "id": "RJXhI-F4cQzu",
    "outputId": "ef75d314-0f52-4054-d657-58b9c2baffa3"
   },
   "outputs": [
    {
     "data": {
      "text/html": [
       "<div>\n",
       "<style scoped>\n",
       "    .dataframe tbody tr th:only-of-type {\n",
       "        vertical-align: middle;\n",
       "    }\n",
       "\n",
       "    .dataframe tbody tr th {\n",
       "        vertical-align: top;\n",
       "    }\n",
       "\n",
       "    .dataframe thead th {\n",
       "        text-align: right;\n",
       "    }\n",
       "</style>\n",
       "<table border=\"1\" class=\"dataframe\">\n",
       "  <thead>\n",
       "    <tr style=\"text-align: right;\">\n",
       "      <th></th>\n",
       "      <th>body_temperature</th>\n",
       "      <th>limb_movement</th>\n",
       "      <th>Blood_oxygen</th>\n",
       "      <th>Sleeping_hours</th>\n",
       "      <th>Heart_rate</th>\n",
       "      <th>Stress_level</th>\n",
       "    </tr>\n",
       "  </thead>\n",
       "  <tbody>\n",
       "  </tbody>\n",
       "</table>\n",
       "</div>"
      ],
      "text/plain": [
       "Empty DataFrame\n",
       "Columns: [body_temperature, limb_movement, Blood_oxygen, Sleeping_hours, Heart_rate, Stress_level]\n",
       "Index: []"
      ]
     },
     "execution_count": 21,
     "metadata": {},
     "output_type": "execute_result"
    }
   ],
   "source": [
    "pillow[(pillow['limb_movement'] > 24.59888744416733) | (pillow['limb_movement'] < -1.1988874441673119)]"
   ]
  },
  {
   "cell_type": "markdown",
   "metadata": {
    "id": "cnR1iK1YcQzv"
   },
   "source": [
    "#### No outlier detected in limb movement"
   ]
  },
  {
   "cell_type": "markdown",
   "metadata": {
    "id": "mMbZziUacQzv"
   },
   "source": [
    "### Detecting outlier using box plot "
   ]
  },
  {
   "cell_type": "code",
   "execution_count": 22,
   "metadata": {
    "colab": {
     "base_uri": "https://localhost:8080/",
     "height": 447
    },
    "id": "Q9GkkyX0cQzv",
    "outputId": "b978fb0a-41b9-44cf-81c0-59398fa83698"
   },
   "outputs": [
    {
     "name": "stderr",
     "output_type": "stream",
     "text": [
      "C:\\Users\\ishit\\anaconda3\\lib\\site-packages\\seaborn\\_decorators.py:36: FutureWarning: Pass the following variable as a keyword arg: x. From version 0.12, the only valid positional argument will be `data`, and passing other arguments without an explicit keyword will result in an error or misinterpretation.\n",
      "  warnings.warn(\n"
     ]
    },
    {
     "data": {
      "text/plain": [
       "<AxesSubplot:xlabel='Heart_rate'>"
      ]
     },
     "execution_count": 22,
     "metadata": {},
     "output_type": "execute_result"
    },
    {
     "data": {
      "image/png": "[encoded data removed]",
      "text/plain": [
       "<Figure size 432x288 with 1 Axes>"
      ]
     },
     "metadata": {
      "needs_background": "light"
     },
     "output_type": "display_data"
    }
   ],
   "source": [
    "sns.boxplot(pillow['Heart_rate'])"
   ]
  },
  {
   "cell_type": "code",
   "execution_count": 23,
   "metadata": {
    "colab": {
     "base_uri": "https://localhost:8080/",
     "height": 447
    },
    "id": "iit7CIL8cQzv",
    "outputId": "5951973e-1290-4035-aea1-388122835711"
   },
   "outputs": [
    {
     "name": "stderr",
     "output_type": "stream",
     "text": [
      "C:\\Users\\ishit\\anaconda3\\lib\\site-packages\\seaborn\\_decorators.py:36: FutureWarning: Pass the following variable as a keyword arg: x. From version 0.12, the only valid positional argument will be `data`, and passing other arguments without an explicit keyword will result in an error or misinterpretation.\n",
      "  warnings.warn(\n"
     ]
    },
    {
     "data": {
      "text/plain": [
       "<AxesSubplot:xlabel='body_temperature'>"
      ]
     },
     "execution_count": 23,
     "metadata": {},
     "output_type": "execute_result"
    },
    {
     "data": {
      "image/png": "[encoded data removed]",
      "text/plain": [
       "<Figure size 432x288 with 1 Axes>"
      ]
     },
     "metadata": {
      "needs_background": "light"
     },
     "output_type": "display_data"
    }
   ],
   "source": [
    "sns.boxplot(pillow['body_temperature'])"
   ]
  },
  {
   "cell_type": "code",
   "execution_count": 24,
   "metadata": {
    "colab": {
     "base_uri": "https://localhost:8080/",
     "height": 447
    },
    "id": "Qbfn7aLUcQzv",
    "outputId": "6526b19e-934c-40c1-e5ae-5b1f74f3bb84"
   },
   "outputs": [
    {
     "name": "stderr",
     "output_type": "stream",
     "text": [
      "C:\\Users\\ishit\\anaconda3\\lib\\site-packages\\seaborn\\_decorators.py:36: FutureWarning: Pass the following variable as a keyword arg: x. From version 0.12, the only valid positional argument will be `data`, and passing other arguments without an explicit keyword will result in an error or misinterpretation.\n",
      "  warnings.warn(\n"
     ]
    },
    {
     "data": {
      "text/plain": [
       "<AxesSubplot:xlabel='Blood_oxygen'>"
      ]
     },
     "execution_count": 24,
     "metadata": {},
     "output_type": "execute_result"
    },
    {
     "data": {
      "image/png": "[encoded data removed]",
      "text/plain": [
       "<Figure size 432x288 with 1 Axes>"
      ]
     },
     "metadata": {
      "needs_background": "light"
     },
     "output_type": "display_data"
    }
   ],
   "source": [
    "sns.boxplot(pillow['Blood_oxygen'])"
   ]
  },
  {
   "cell_type": "code",
   "execution_count": 25,
   "metadata": {
    "colab": {
     "base_uri": "https://localhost:8080/",
     "height": 447
    },
    "id": "DC_2iVxgcQzv",
    "outputId": "1919c844-5511-49e8-baf3-f75c5f60a76d"
   },
   "outputs": [
    {
     "name": "stderr",
     "output_type": "stream",
     "text": [
      "C:\\Users\\ishit\\anaconda3\\lib\\site-packages\\seaborn\\_decorators.py:36: FutureWarning: Pass the following variable as a keyword arg: x. From version 0.12, the only valid positional argument will be `data`, and passing other arguments without an explicit keyword will result in an error or misinterpretation.\n",
      "  warnings.warn(\n"
     ]
    },
    {
     "data": {
      "text/plain": [
       "<AxesSubplot:xlabel='Sleeping_hours'>"
      ]
     },
     "execution_count": 25,
     "metadata": {},
     "output_type": "execute_result"
    },
    {
     "data": {
      "image/png": "[encoded data removed]",
      "text/plain": [
       "<Figure size 432x288 with 1 Axes>"
      ]
     },
     "metadata": {
      "needs_background": "light"
     },
     "output_type": "display_data"
    }
   ],
   "source": [
    "sns.boxplot(pillow['Sleeping_hours'])"
   ]
  },
  {
   "cell_type": "markdown",
   "metadata": {
    "id": "tqT3HE4ZcQzw"
   },
   "source": [
    "### No outlier detected in Heart rate, body temperature, Blood oxygen, Sleeping hours"
   ]
  },
  {
   "cell_type": "code",
   "execution_count": 26,
   "metadata": {
    "id": "et-o9sVPcfZH"
   },
   "outputs": [],
   "source": [
    "df1 = pillow.copy()"
   ]
  },
  {
   "cell_type": "markdown",
   "metadata": {
    "id": "xc33qnw9cQzw"
   },
   "source": [
    "## Data standardization"
   ]
  },
  {
   "cell_type": "code",
   "execution_count": 27,
   "metadata": {
    "id": "PrTJv1EqcQzw"
   },
   "outputs": [],
   "source": [
    "Y=pillow['Stress_level']"
   ]
  },
  {
   "cell_type": "code",
   "execution_count": 28,
   "metadata": {
    "id": "p0iQB_INcQzw"
   },
   "outputs": [],
   "source": [
    "X=pillow.drop(['Stress_level'],axis=1)"
   ]
  },
  {
   "cell_type": "code",
   "execution_count": 29,
   "metadata": {
    "colab": {
     "base_uri": "https://localhost:8080/",
     "height": 206
    },
    "id": "piHzHlCRcQzw",
    "outputId": "1d7d353f-436f-43f4-cb68-73116cf81dae"
   },
   "outputs": [
    {
     "data": {
      "text/html": [
       "<div>\n",
       "<style scoped>\n",
       "    .dataframe tbody tr th:only-of-type {\n",
       "        vertical-align: middle;\n",
       "    }\n",
       "\n",
       "    .dataframe tbody tr th {\n",
       "        vertical-align: top;\n",
       "    }\n",
       "\n",
       "    .dataframe thead th {\n",
       "        text-align: right;\n",
       "    }\n",
       "</style>\n",
       "<table border=\"1\" class=\"dataframe\">\n",
       "  <thead>\n",
       "    <tr style=\"text-align: right;\">\n",
       "      <th></th>\n",
       "      <th>body_temperature</th>\n",
       "      <th>limb_movement</th>\n",
       "      <th>Blood_oxygen</th>\n",
       "      <th>Sleeping_hours</th>\n",
       "      <th>Heart_rate</th>\n",
       "    </tr>\n",
       "  </thead>\n",
       "  <tbody>\n",
       "    <tr>\n",
       "      <th>0</th>\n",
       "      <td>91.840</td>\n",
       "      <td>16.600</td>\n",
       "      <td>89.840</td>\n",
       "      <td>1.840</td>\n",
       "      <td>74.20</td>\n",
       "    </tr>\n",
       "    <tr>\n",
       "      <th>1</th>\n",
       "      <td>91.552</td>\n",
       "      <td>15.880</td>\n",
       "      <td>89.552</td>\n",
       "      <td>1.552</td>\n",
       "      <td>72.76</td>\n",
       "    </tr>\n",
       "    <tr>\n",
       "      <th>2</th>\n",
       "      <td>96.000</td>\n",
       "      <td>10.000</td>\n",
       "      <td>95.000</td>\n",
       "      <td>7.000</td>\n",
       "      <td>60.00</td>\n",
       "    </tr>\n",
       "    <tr>\n",
       "      <th>3</th>\n",
       "      <td>90.768</td>\n",
       "      <td>13.920</td>\n",
       "      <td>88.768</td>\n",
       "      <td>0.768</td>\n",
       "      <td>68.84</td>\n",
       "    </tr>\n",
       "    <tr>\n",
       "      <th>4</th>\n",
       "      <td>97.872</td>\n",
       "      <td>6.496</td>\n",
       "      <td>96.248</td>\n",
       "      <td>8.248</td>\n",
       "      <td>53.12</td>\n",
       "    </tr>\n",
       "  </tbody>\n",
       "</table>\n",
       "</div>"
      ],
      "text/plain": [
       "   body_temperature  limb_movement  Blood_oxygen  Sleeping_hours  Heart_rate\n",
       "0            91.840         16.600        89.840           1.840       74.20\n",
       "1            91.552         15.880        89.552           1.552       72.76\n",
       "2            96.000         10.000        95.000           7.000       60.00\n",
       "3            90.768         13.920        88.768           0.768       68.84\n",
       "4            97.872          6.496        96.248           8.248       53.12"
      ]
     },
     "execution_count": 29,
     "metadata": {},
     "output_type": "execute_result"
    }
   ],
   "source": [
    "X.head()"
   ]
  },
  {
   "cell_type": "code",
   "execution_count": 30,
   "metadata": {
    "colab": {
     "base_uri": "https://localhost:8080/",
     "height": 75
    },
    "id": "1BmPHNEocQzw",
    "outputId": "a360cede-bb1a-43a5-9394-9979578d9bea"
   },
   "outputs": [
    {
     "data": {
      "text/plain": [
       "StandardScaler()"
      ]
     },
     "execution_count": 30,
     "metadata": {},
     "output_type": "execute_result"
    }
   ],
   "source": [
    "from sklearn.preprocessing import StandardScaler\n",
    "scaler = StandardScaler()\n",
    "scaler.fit(X)"
   ]
  },
  {
   "cell_type": "code",
   "execution_count": 31,
   "metadata": {
    "id": "UUspLRegcQzx"
   },
   "outputs": [],
   "source": [
    "X= scaler.transform(X)"
   ]
  },
  {
   "cell_type": "markdown",
   "metadata": {},
   "source": [
    "## Logistic Regression"
   ]
  },
  {
   "cell_type": "code",
   "execution_count": 32,
   "metadata": {
    "colab": {
     "base_uri": "https://localhost:8080/"
    },
    "id": "WUg0MplkcQzx",
    "outputId": "f6475691-dccc-4c91-828f-3690e8944412"
   },
   "outputs": [
    {
     "name": "stdout",
     "output_type": "stream",
     "text": [
      "Accuracy score of training data :  0.9698412698412698\n"
     ]
    }
   ],
   "source": [
    "from sklearn.linear_model import LogisticRegression\n",
    "lr=LogisticRegression(solver='liblinear',multi_class='ovr')\n",
    "lr.fit(X,Y)\n",
    "from sklearn.metrics import accuracy_score\n",
    "X_train_prediction = lr.predict(X)\n",
    "training_data_accuracy_LR= accuracy_score(Y, X_train_prediction)\n",
    "print('Accuracy score of training data : ', training_data_accuracy_LR)"
   ]
  },
  {
   "cell_type": "markdown",
   "metadata": {},
   "source": [
    "## Random Forest"
   ]
  },
  {
   "cell_type": "code",
   "execution_count": 62,
   "metadata": {},
   "outputs": [
    {
     "name": "stdout",
     "output_type": "stream",
     "text": [
      "Accuracy score of training data :  1.0\n"
     ]
    }
   ],
   "source": [
    "from sklearn.ensemble import RandomForestClassifier\n",
    "classifier = RandomForestClassifier(n_estimators = 10, criterion = 'entropy', random_state = 0)\n",
    "classifier.fit(X, Y)\n",
    "X_train_prediction = classifier.predict(X)\n",
    "training_data_accuracy_RF= accuracy_score(Y, X_train_prediction)\n",
    "print('Accuracy score of training data : ', training_data_accuracy_RF)"
   ]
  },
  {
   "cell_type": "markdown",
   "metadata": {
    "id": "4TydVoB-dceI"
   },
   "source": [
    "# Testing Data"
   ]
  },
  {
   "cell_type": "code",
   "execution_count": 33,
   "metadata": {
    "id": "6ab5jOOLcQzx"
   },
   "outputs": [],
   "source": [
    "p_test=pd.read_csv('test.csv')"
   ]
  },
  {
   "cell_type": "code",
   "execution_count": 34,
   "metadata": {
    "id": "_Rxq0RgPcQzx"
   },
   "outputs": [],
   "source": [
    "p_test.rename(columns = {'Sleeping_hours\\t':'Sleeping_hours'}, inplace = True)"
   ]
  },
  {
   "cell_type": "code",
   "execution_count": 35,
   "metadata": {
    "colab": {
     "base_uri": "https://localhost:8080/",
     "height": 206
    },
    "id": "1iQwDSF8eqRx",
    "outputId": "1bb4fdeb-cda2-4669-87ee-85b8d132ad54"
   },
   "outputs": [
    {
     "data": {
      "text/html": [
       "<div>\n",
       "<style scoped>\n",
       "    .dataframe tbody tr th:only-of-type {\n",
       "        vertical-align: middle;\n",
       "    }\n",
       "\n",
       "    .dataframe tbody tr th {\n",
       "        vertical-align: top;\n",
       "    }\n",
       "\n",
       "    .dataframe thead th {\n",
       "        text-align: right;\n",
       "    }\n",
       "</style>\n",
       "<table border=\"1\" class=\"dataframe\">\n",
       "  <thead>\n",
       "    <tr style=\"text-align: right;\">\n",
       "      <th></th>\n",
       "      <th>limb_movement</th>\n",
       "      <th>Sleeping_hours</th>\n",
       "      <th>Heart_rate</th>\n",
       "      <th>Stress_level</th>\n",
       "    </tr>\n",
       "  </thead>\n",
       "  <tbody>\n",
       "    <tr>\n",
       "      <th>0</th>\n",
       "      <td>16</td>\n",
       "      <td>1.840</td>\n",
       "      <td>70</td>\n",
       "      <td>3</td>\n",
       "    </tr>\n",
       "    <tr>\n",
       "      <th>1</th>\n",
       "      <td>20</td>\n",
       "      <td>1.552</td>\n",
       "      <td>95</td>\n",
       "      <td>3</td>\n",
       "    </tr>\n",
       "    <tr>\n",
       "      <th>2</th>\n",
       "      <td>20</td>\n",
       "      <td>7.000</td>\n",
       "      <td>65</td>\n",
       "      <td>1</td>\n",
       "    </tr>\n",
       "    <tr>\n",
       "      <th>3</th>\n",
       "      <td>20</td>\n",
       "      <td>0.768</td>\n",
       "      <td>89</td>\n",
       "      <td>3</td>\n",
       "    </tr>\n",
       "    <tr>\n",
       "      <th>4</th>\n",
       "      <td>7</td>\n",
       "      <td>8.248</td>\n",
       "      <td>72</td>\n",
       "      <td>0</td>\n",
       "    </tr>\n",
       "  </tbody>\n",
       "</table>\n",
       "</div>"
      ],
      "text/plain": [
       "   limb_movement  Sleeping_hours  Heart_rate  Stress_level\n",
       "0             16           1.840          70             3\n",
       "1             20           1.552          95             3\n",
       "2             20           7.000          65             1\n",
       "3             20           0.768          89             3\n",
       "4              7           8.248          72             0"
      ]
     },
     "execution_count": 35,
     "metadata": {},
     "output_type": "execute_result"
    }
   ],
   "source": [
    "p_test = p_test.drop(['Snoring_rate','Respiration_rate','Eye_movement'],axis=1)\n",
    "p_test.head()"
   ]
  },
  {
   "cell_type": "code",
   "execution_count": 36,
   "metadata": {
    "colab": {
     "base_uri": "https://localhost:8080/",
     "height": 206
    },
    "id": "e2dLOU7RdmTT",
    "outputId": "b4c1a383-1608-4d90-ca1e-4c9bba8d95c3"
   },
   "outputs": [
    {
     "data": {
      "text/html": [
       "<div>\n",
       "<style scoped>\n",
       "    .dataframe tbody tr th:only-of-type {\n",
       "        vertical-align: middle;\n",
       "    }\n",
       "\n",
       "    .dataframe tbody tr th {\n",
       "        vertical-align: top;\n",
       "    }\n",
       "\n",
       "    .dataframe thead th {\n",
       "        text-align: right;\n",
       "    }\n",
       "</style>\n",
       "<table border=\"1\" class=\"dataframe\">\n",
       "  <thead>\n",
       "    <tr style=\"text-align: right;\">\n",
       "      <th></th>\n",
       "      <th>limb_movement</th>\n",
       "      <th>Sleeping_hours</th>\n",
       "      <th>Heart_rate</th>\n",
       "      <th>Stress_level</th>\n",
       "    </tr>\n",
       "  </thead>\n",
       "  <tbody>\n",
       "    <tr>\n",
       "      <th>0</th>\n",
       "      <td>16</td>\n",
       "      <td>1.840</td>\n",
       "      <td>70</td>\n",
       "      <td>3</td>\n",
       "    </tr>\n",
       "    <tr>\n",
       "      <th>1</th>\n",
       "      <td>20</td>\n",
       "      <td>1.552</td>\n",
       "      <td>95</td>\n",
       "      <td>3</td>\n",
       "    </tr>\n",
       "    <tr>\n",
       "      <th>2</th>\n",
       "      <td>20</td>\n",
       "      <td>7.000</td>\n",
       "      <td>65</td>\n",
       "      <td>1</td>\n",
       "    </tr>\n",
       "    <tr>\n",
       "      <th>3</th>\n",
       "      <td>20</td>\n",
       "      <td>0.768</td>\n",
       "      <td>89</td>\n",
       "      <td>3</td>\n",
       "    </tr>\n",
       "    <tr>\n",
       "      <th>4</th>\n",
       "      <td>7</td>\n",
       "      <td>8.248</td>\n",
       "      <td>72</td>\n",
       "      <td>0</td>\n",
       "    </tr>\n",
       "  </tbody>\n",
       "</table>\n",
       "</div>"
      ],
      "text/plain": [
       "   limb_movement  Sleeping_hours  Heart_rate  Stress_level\n",
       "0             16           1.840          70             3\n",
       "1             20           1.552          95             3\n",
       "2             20           7.000          65             1\n",
       "3             20           0.768          89             3\n",
       "4              7           8.248          72             0"
      ]
     },
     "execution_count": 36,
     "metadata": {},
     "output_type": "execute_result"
    }
   ],
   "source": [
    "p1_test = p_test.copy()\n",
    "p1_test.head()"
   ]
  },
  {
   "cell_type": "code",
   "execution_count": 37,
   "metadata": {
    "colab": {
     "base_uri": "https://localhost:8080/",
     "height": 206
    },
    "id": "BZ6_2wWYdvkx",
    "outputId": "6dc0409f-82e4-407e-e0a7-59f4f3b083d8"
   },
   "outputs": [
    {
     "data": {
      "text/html": [
       "<div>\n",
       "<style scoped>\n",
       "    .dataframe tbody tr th:only-of-type {\n",
       "        vertical-align: middle;\n",
       "    }\n",
       "\n",
       "    .dataframe tbody tr th {\n",
       "        vertical-align: top;\n",
       "    }\n",
       "\n",
       "    .dataframe thead th {\n",
       "        text-align: right;\n",
       "    }\n",
       "</style>\n",
       "<table border=\"1\" class=\"dataframe\">\n",
       "  <thead>\n",
       "    <tr style=\"text-align: right;\">\n",
       "      <th></th>\n",
       "      <th>body_temperature</th>\n",
       "      <th>limb_movement</th>\n",
       "      <th>Blood_oxygen</th>\n",
       "      <th>Sleeping_hours</th>\n",
       "      <th>Heart_rate</th>\n",
       "      <th>Stress_level</th>\n",
       "    </tr>\n",
       "  </thead>\n",
       "  <tbody>\n",
       "    <tr>\n",
       "      <th>0</th>\n",
       "      <td>91.840</td>\n",
       "      <td>16.600</td>\n",
       "      <td>89.840</td>\n",
       "      <td>1.840</td>\n",
       "      <td>74.20</td>\n",
       "      <td>3</td>\n",
       "    </tr>\n",
       "    <tr>\n",
       "      <th>1</th>\n",
       "      <td>91.552</td>\n",
       "      <td>15.880</td>\n",
       "      <td>89.552</td>\n",
       "      <td>1.552</td>\n",
       "      <td>72.76</td>\n",
       "      <td>3</td>\n",
       "    </tr>\n",
       "    <tr>\n",
       "      <th>2</th>\n",
       "      <td>96.000</td>\n",
       "      <td>10.000</td>\n",
       "      <td>95.000</td>\n",
       "      <td>7.000</td>\n",
       "      <td>60.00</td>\n",
       "      <td>1</td>\n",
       "    </tr>\n",
       "    <tr>\n",
       "      <th>3</th>\n",
       "      <td>90.768</td>\n",
       "      <td>13.920</td>\n",
       "      <td>88.768</td>\n",
       "      <td>0.768</td>\n",
       "      <td>68.84</td>\n",
       "      <td>3</td>\n",
       "    </tr>\n",
       "    <tr>\n",
       "      <th>4</th>\n",
       "      <td>97.872</td>\n",
       "      <td>6.496</td>\n",
       "      <td>96.248</td>\n",
       "      <td>8.248</td>\n",
       "      <td>53.12</td>\n",
       "      <td>0</td>\n",
       "    </tr>\n",
       "  </tbody>\n",
       "</table>\n",
       "</div>"
      ],
      "text/plain": [
       "   body_temperature  limb_movement  Blood_oxygen  Sleeping_hours  Heart_rate  \\\n",
       "0            91.840         16.600        89.840           1.840       74.20   \n",
       "1            91.552         15.880        89.552           1.552       72.76   \n",
       "2            96.000         10.000        95.000           7.000       60.00   \n",
       "3            90.768         13.920        88.768           0.768       68.84   \n",
       "4            97.872          6.496        96.248           8.248       53.12   \n",
       "\n",
       "   Stress_level  \n",
       "0             3  \n",
       "1             3  \n",
       "2             1  \n",
       "3             3  \n",
       "4             0  "
      ]
     },
     "execution_count": 37,
     "metadata": {},
     "output_type": "execute_result"
    }
   ],
   "source": [
    "df1.head() #reqd"
   ]
  },
  {
   "cell_type": "code",
   "execution_count": 38,
   "metadata": {
    "id": "hoPCLb9uBy-k"
   },
   "outputs": [],
   "source": [
    "df2 = df1.copy()"
   ]
  },
  {
   "cell_type": "code",
   "execution_count": 39,
   "metadata": {
    "colab": {
     "base_uri": "https://localhost:8080/",
     "height": 206
    },
    "id": "o325cVpxdqRl",
    "outputId": "ab7ec2f7-7afa-4caf-82b5-126aec9e79fd"
   },
   "outputs": [
    {
     "data": {
      "text/html": [
       "<div>\n",
       "<style scoped>\n",
       "    .dataframe tbody tr th:only-of-type {\n",
       "        vertical-align: middle;\n",
       "    }\n",
       "\n",
       "    .dataframe tbody tr th {\n",
       "        vertical-align: top;\n",
       "    }\n",
       "\n",
       "    .dataframe thead th {\n",
       "        text-align: right;\n",
       "    }\n",
       "</style>\n",
       "<table border=\"1\" class=\"dataframe\">\n",
       "  <thead>\n",
       "    <tr style=\"text-align: right;\">\n",
       "      <th></th>\n",
       "      <th>limb_movement</th>\n",
       "      <th>Sleeping_hours</th>\n",
       "      <th>Heart_rate</th>\n",
       "      <th>Stress_level</th>\n",
       "      <th>body_temperature</th>\n",
       "      <th>Blood_oxygen</th>\n",
       "    </tr>\n",
       "  </thead>\n",
       "  <tbody>\n",
       "    <tr>\n",
       "      <th>0</th>\n",
       "      <td>16.600</td>\n",
       "      <td>1.840</td>\n",
       "      <td>74.20</td>\n",
       "      <td>3</td>\n",
       "      <td>91.840</td>\n",
       "      <td>89.840</td>\n",
       "    </tr>\n",
       "    <tr>\n",
       "      <th>1</th>\n",
       "      <td>15.880</td>\n",
       "      <td>1.552</td>\n",
       "      <td>72.76</td>\n",
       "      <td>3</td>\n",
       "      <td>91.552</td>\n",
       "      <td>89.552</td>\n",
       "    </tr>\n",
       "    <tr>\n",
       "      <th>2</th>\n",
       "      <td>10.000</td>\n",
       "      <td>7.000</td>\n",
       "      <td>60.00</td>\n",
       "      <td>1</td>\n",
       "      <td>96.000</td>\n",
       "      <td>95.000</td>\n",
       "    </tr>\n",
       "    <tr>\n",
       "      <th>3</th>\n",
       "      <td>13.920</td>\n",
       "      <td>0.768</td>\n",
       "      <td>68.84</td>\n",
       "      <td>3</td>\n",
       "      <td>90.768</td>\n",
       "      <td>88.768</td>\n",
       "    </tr>\n",
       "    <tr>\n",
       "      <th>4</th>\n",
       "      <td>6.496</td>\n",
       "      <td>8.248</td>\n",
       "      <td>53.12</td>\n",
       "      <td>0</td>\n",
       "      <td>97.872</td>\n",
       "      <td>96.248</td>\n",
       "    </tr>\n",
       "  </tbody>\n",
       "</table>\n",
       "</div>"
      ],
      "text/plain": [
       "   limb_movement  Sleeping_hours  Heart_rate  Stress_level  body_temperature  \\\n",
       "0         16.600           1.840       74.20             3            91.840   \n",
       "1         15.880           1.552       72.76             3            91.552   \n",
       "2         10.000           7.000       60.00             1            96.000   \n",
       "3         13.920           0.768       68.84             3            90.768   \n",
       "4          6.496           8.248       53.12             0            97.872   \n",
       "\n",
       "   Blood_oxygen  \n",
       "0        89.840  \n",
       "1        89.552  \n",
       "2        95.000  \n",
       "3        88.768  \n",
       "4        96.248  "
      ]
     },
     "execution_count": 39,
     "metadata": {},
     "output_type": "execute_result"
    }
   ],
   "source": [
    "df1 = df1[['limb_movement','Sleeping_hours','Heart_rate','Stress_level','body_temperature','Blood_oxygen']]\n",
    "df1.head()"
   ]
  },
  {
   "cell_type": "markdown",
   "metadata": {
    "id": "nVllQqbS7TYn"
   },
   "source": [
    "## body_temperature imputation"
   ]
  },
  {
   "cell_type": "code",
   "execution_count": 40,
   "metadata": {
    "colab": {
     "base_uri": "https://localhost:8080/"
    },
    "id": "fz2uwB1wdstQ",
    "outputId": "639707fa-cc22-4c73-b783-2d4ab8a49846"
   },
   "outputs": [
    {
     "data": {
      "text/plain": [
       "array([[16.6  ,  1.84 , 74.2  ,  3.   ],\n",
       "       [15.88 ,  1.552, 72.76 ,  3.   ],\n",
       "       [10.   ,  7.   , 60.   ,  1.   ],\n",
       "       ...,\n",
       "       [17.752,  0.   , 78.76 ,  4.   ],\n",
       "       [ 9.728,  6.728, 59.32 ,  1.   ],\n",
       "       [11.392,  4.088, 63.48 ,  2.   ]])"
      ]
     },
     "execution_count": 40,
     "metadata": {},
     "output_type": "execute_result"
    }
   ],
   "source": [
    "df1_x = df1.iloc[:,:-2].values\n",
    "df1_y = df1.iloc[:,-2].values\n",
    "df1_x"
   ]
  },
  {
   "cell_type": "code",
   "execution_count": 41,
   "metadata": {
    "id": "X4encXzHCsIk"
   },
   "outputs": [],
   "source": [
    "p1_test1 = np.array(p1_test)\n",
    "#p1_test1"
   ]
  },
  {
   "cell_type": "code",
   "execution_count": 42,
   "metadata": {
    "colab": {
     "base_uri": "https://localhost:8080/"
    },
    "id": "JD9SC3xlCzJb",
    "outputId": "3c490059-a61b-4d79-ed7c-a264cfbbde3c"
   },
   "outputs": [
    {
     "data": {
      "text/plain": [
       "array([91.392, 91.664, 96.   , 91.2  , 98.376, 95.664, 97.272, 98.88 ,\n",
       "       96.408, 94.88 , 93.376, 95.856, 98.376, 89.72 , 91.2  , 94.784,\n",
       "       95.28 , 91.2  , 91.184, 92.384, 93.728, 93.728, 92.784, 90.368,\n",
       "       91.648, 94.784, 93.728, 94.784, 91.984, 92.208, 98.4  , 90.   ,\n",
       "       98.376, 85.08 , 92.   , 90.608, 98.376, 86.48 , 96.6  , 86.48 ,\n",
       "       92.144, 92.592, 93.408, 98.4  , 93.376, 89.72 , 92.272, 89.72 ,\n",
       "       94.88 , 86.48 ])"
      ]
     },
     "execution_count": 42,
     "metadata": {},
     "output_type": "execute_result"
    }
   ],
   "source": [
    "# from sklearn.ensemble import RandomForestRegressor\n",
    "# regressor = RandomForestRegressor(n_estimators=10,random_state=0)\n",
    "from sklearn.tree import DecisionTreeRegressor\n",
    "regressor = DecisionTreeRegressor(random_state = 0)\n",
    "regressor.fit(df1_x,df1_y)\n",
    "p1_body_temp = regressor.predict(p1_test1)\n",
    "p1_body_temp"
   ]
  },
  {
   "cell_type": "code",
   "execution_count": 43,
   "metadata": {
    "colab": {
     "base_uri": "https://localhost:8080/",
     "height": 206
    },
    "id": "DcTE8kElDGfw",
    "outputId": "ae11ed4f-7a26-4108-f5a8-7ab7fc2d0a2f"
   },
   "outputs": [
    {
     "data": {
      "text/html": [
       "<div>\n",
       "<style scoped>\n",
       "    .dataframe tbody tr th:only-of-type {\n",
       "        vertical-align: middle;\n",
       "    }\n",
       "\n",
       "    .dataframe tbody tr th {\n",
       "        vertical-align: top;\n",
       "    }\n",
       "\n",
       "    .dataframe thead th {\n",
       "        text-align: right;\n",
       "    }\n",
       "</style>\n",
       "<table border=\"1\" class=\"dataframe\">\n",
       "  <thead>\n",
       "    <tr style=\"text-align: right;\">\n",
       "      <th></th>\n",
       "      <th>body_temperature</th>\n",
       "    </tr>\n",
       "  </thead>\n",
       "  <tbody>\n",
       "    <tr>\n",
       "      <th>0</th>\n",
       "      <td>91.392</td>\n",
       "    </tr>\n",
       "    <tr>\n",
       "      <th>1</th>\n",
       "      <td>91.664</td>\n",
       "    </tr>\n",
       "    <tr>\n",
       "      <th>2</th>\n",
       "      <td>96.000</td>\n",
       "    </tr>\n",
       "    <tr>\n",
       "      <th>3</th>\n",
       "      <td>91.200</td>\n",
       "    </tr>\n",
       "    <tr>\n",
       "      <th>4</th>\n",
       "      <td>98.376</td>\n",
       "    </tr>\n",
       "  </tbody>\n",
       "</table>\n",
       "</div>"
      ],
      "text/plain": [
       "   body_temperature\n",
       "0            91.392\n",
       "1            91.664\n",
       "2            96.000\n",
       "3            91.200\n",
       "4            98.376"
      ]
     },
     "execution_count": 43,
     "metadata": {},
     "output_type": "execute_result"
    }
   ],
   "source": [
    "p1_body_temp = pd.DataFrame(p1_body_temp, columns = ['body_temperature'])\n",
    "p1_body_temp.head()"
   ]
  },
  {
   "cell_type": "markdown",
   "metadata": {
    "id": "UNrh-sNo7Y_u"
   },
   "source": [
    "## Blood_oxygen Imputation"
   ]
  },
  {
   "cell_type": "code",
   "execution_count": 44,
   "metadata": {
    "colab": {
     "base_uri": "https://localhost:8080/"
    },
    "id": "we8uTAmNDccQ",
    "outputId": "a2bee4fa-2b78-4247-b994-c1eeb886444e"
   },
   "outputs": [
    {
     "data": {
      "text/plain": [
       "array([[16.6  ,  1.84 , 74.2  ,  3.   ],\n",
       "       [15.88 ,  1.552, 72.76 ,  3.   ],\n",
       "       [10.   ,  7.   , 60.   ,  1.   ],\n",
       "       ...,\n",
       "       [17.752,  0.   , 78.76 ,  4.   ],\n",
       "       [ 9.728,  6.728, 59.32 ,  1.   ],\n",
       "       [11.392,  4.088, 63.48 ,  2.   ]])"
      ]
     },
     "execution_count": 44,
     "metadata": {},
     "output_type": "execute_result"
    }
   ],
   "source": [
    "df1_x2 = df1.iloc[:,:-2].values\n",
    "df1_y2 = df1.iloc[:,-1].values\n",
    "df1_x2"
   ]
  },
  {
   "cell_type": "code",
   "execution_count": 45,
   "metadata": {
    "id": "6wNkSGvzEFRE"
   },
   "outputs": [],
   "source": [
    "#df1_y2"
   ]
  },
  {
   "cell_type": "code",
   "execution_count": 46,
   "metadata": {
    "id": "fcgSVuRCDmL5"
   },
   "outputs": [],
   "source": [
    "# p1_test1"
   ]
  },
  {
   "cell_type": "code",
   "execution_count": 47,
   "metadata": {
    "colab": {
     "base_uri": "https://localhost:8080/"
    },
    "id": "OxE_Jab1Dtek",
    "outputId": "3d26d860-c7fc-4857-be36-edd6c79ba812"
   },
   "outputs": [
    {
     "data": {
      "text/plain": [
       "array([89.84 , 89.68 , 95.   , 88.976, 96.552, 94.568, 96.568, 97.   ,\n",
       "       95.096, 93.32 , 90.976, 94.784, 96.552, 85.168, 89.2  , 92.936,\n",
       "       92.936, 88.976, 88.736, 90.656, 91.616, 91.6  , 90.752, 88.464,\n",
       "       89.328, 93.248, 91.84 , 92.936, 89.984, 90.112, 96.92 , 88.   ,\n",
       "       96.552, 83.056, 90.   , 88.656, 96.552, 83.68 , 95.384, 83.68 ,\n",
       "       90.112, 90.112, 91.536, 96.92 , 90.976, 85.168, 90.112, 85.168,\n",
       "       94.328, 83.824])"
      ]
     },
     "execution_count": 47,
     "metadata": {},
     "output_type": "execute_result"
    }
   ],
   "source": [
    "# from sklearn.ensemble import RandomForestRegressor\n",
    "# regressor1 = RandomForestRegressor(n_estimators=10,random_state=0)\n",
    "from sklearn.tree import DecisionTreeRegressor\n",
    "regressor1 = DecisionTreeRegressor(random_state = 0)\n",
    "regressor1.fit(df1_x2,df1_y2)\n",
    "p1_blood_ox = regressor1.predict(p1_test1)\n",
    "p1_blood_ox"
   ]
  },
  {
   "cell_type": "code",
   "execution_count": 48,
   "metadata": {
    "colab": {
     "base_uri": "https://localhost:8080/",
     "height": 206
    },
    "id": "YoqJMxxCENSk",
    "outputId": "746200e5-326d-4507-800b-efc0d0cc788d"
   },
   "outputs": [
    {
     "data": {
      "text/html": [
       "<div>\n",
       "<style scoped>\n",
       "    .dataframe tbody tr th:only-of-type {\n",
       "        vertical-align: middle;\n",
       "    }\n",
       "\n",
       "    .dataframe tbody tr th {\n",
       "        vertical-align: top;\n",
       "    }\n",
       "\n",
       "    .dataframe thead th {\n",
       "        text-align: right;\n",
       "    }\n",
       "</style>\n",
       "<table border=\"1\" class=\"dataframe\">\n",
       "  <thead>\n",
       "    <tr style=\"text-align: right;\">\n",
       "      <th></th>\n",
       "      <th>Blood_oxygen</th>\n",
       "    </tr>\n",
       "  </thead>\n",
       "  <tbody>\n",
       "    <tr>\n",
       "      <th>0</th>\n",
       "      <td>89.840</td>\n",
       "    </tr>\n",
       "    <tr>\n",
       "      <th>1</th>\n",
       "      <td>89.680</td>\n",
       "    </tr>\n",
       "    <tr>\n",
       "      <th>2</th>\n",
       "      <td>95.000</td>\n",
       "    </tr>\n",
       "    <tr>\n",
       "      <th>3</th>\n",
       "      <td>88.976</td>\n",
       "    </tr>\n",
       "    <tr>\n",
       "      <th>4</th>\n",
       "      <td>96.552</td>\n",
       "    </tr>\n",
       "  </tbody>\n",
       "</table>\n",
       "</div>"
      ],
      "text/plain": [
       "   Blood_oxygen\n",
       "0        89.840\n",
       "1        89.680\n",
       "2        95.000\n",
       "3        88.976\n",
       "4        96.552"
      ]
     },
     "execution_count": 48,
     "metadata": {},
     "output_type": "execute_result"
    }
   ],
   "source": [
    "p1_blood_ox = pd.DataFrame(p1_blood_ox, columns = ['Blood_oxygen'])\n",
    "p1_blood_ox.head()"
   ]
  },
  {
   "cell_type": "code",
   "execution_count": 49,
   "metadata": {
    "colab": {
     "base_uri": "https://localhost:8080/",
     "height": 206
    },
    "id": "-NuOeA5qF31m",
    "outputId": "d8ed4897-c5cb-4234-e30d-076875aa9f73"
   },
   "outputs": [
    {
     "data": {
      "text/html": [
       "<div>\n",
       "<style scoped>\n",
       "    .dataframe tbody tr th:only-of-type {\n",
       "        vertical-align: middle;\n",
       "    }\n",
       "\n",
       "    .dataframe tbody tr th {\n",
       "        vertical-align: top;\n",
       "    }\n",
       "\n",
       "    .dataframe thead th {\n",
       "        text-align: right;\n",
       "    }\n",
       "</style>\n",
       "<table border=\"1\" class=\"dataframe\">\n",
       "  <thead>\n",
       "    <tr style=\"text-align: right;\">\n",
       "      <th></th>\n",
       "      <th>limb_movement</th>\n",
       "      <th>Sleeping_hours</th>\n",
       "      <th>Heart_rate</th>\n",
       "      <th>Stress_level</th>\n",
       "      <th>body_temperature</th>\n",
       "      <th>Blood_oxygen</th>\n",
       "    </tr>\n",
       "  </thead>\n",
       "  <tbody>\n",
       "    <tr>\n",
       "      <th>0</th>\n",
       "      <td>16</td>\n",
       "      <td>1.840</td>\n",
       "      <td>70</td>\n",
       "      <td>3</td>\n",
       "      <td>91.392</td>\n",
       "      <td>89.840</td>\n",
       "    </tr>\n",
       "    <tr>\n",
       "      <th>1</th>\n",
       "      <td>20</td>\n",
       "      <td>1.552</td>\n",
       "      <td>95</td>\n",
       "      <td>3</td>\n",
       "      <td>91.664</td>\n",
       "      <td>89.680</td>\n",
       "    </tr>\n",
       "    <tr>\n",
       "      <th>2</th>\n",
       "      <td>20</td>\n",
       "      <td>7.000</td>\n",
       "      <td>65</td>\n",
       "      <td>1</td>\n",
       "      <td>96.000</td>\n",
       "      <td>95.000</td>\n",
       "    </tr>\n",
       "    <tr>\n",
       "      <th>3</th>\n",
       "      <td>20</td>\n",
       "      <td>0.768</td>\n",
       "      <td>89</td>\n",
       "      <td>3</td>\n",
       "      <td>91.200</td>\n",
       "      <td>88.976</td>\n",
       "    </tr>\n",
       "    <tr>\n",
       "      <th>4</th>\n",
       "      <td>7</td>\n",
       "      <td>8.248</td>\n",
       "      <td>72</td>\n",
       "      <td>0</td>\n",
       "      <td>98.376</td>\n",
       "      <td>96.552</td>\n",
       "    </tr>\n",
       "  </tbody>\n",
       "</table>\n",
       "</div>"
      ],
      "text/plain": [
       "   limb_movement  Sleeping_hours  Heart_rate  Stress_level  body_temperature  \\\n",
       "0             16           1.840          70             3            91.392   \n",
       "1             20           1.552          95             3            91.664   \n",
       "2             20           7.000          65             1            96.000   \n",
       "3             20           0.768          89             3            91.200   \n",
       "4              7           8.248          72             0            98.376   \n",
       "\n",
       "   Blood_oxygen  \n",
       "0        89.840  \n",
       "1        89.680  \n",
       "2        95.000  \n",
       "3        88.976  \n",
       "4        96.552  "
      ]
     },
     "execution_count": 49,
     "metadata": {},
     "output_type": "execute_result"
    }
   ],
   "source": [
    "test = pd.concat([p1_test,p1_body_temp,p1_blood_ox], axis=1, join='inner')\n",
    "test.head()"
   ]
  },
  {
   "cell_type": "code",
   "execution_count": 50,
   "metadata": {
    "colab": {
     "base_uri": "https://localhost:8080/",
     "height": 206
    },
    "id": "lAqjMT0kG0Fm",
    "outputId": "36d96d7b-e95e-458a-b4b7-a5e47f63c05a"
   },
   "outputs": [
    {
     "data": {
      "text/html": [
       "<div>\n",
       "<style scoped>\n",
       "    .dataframe tbody tr th:only-of-type {\n",
       "        vertical-align: middle;\n",
       "    }\n",
       "\n",
       "    .dataframe tbody tr th {\n",
       "        vertical-align: top;\n",
       "    }\n",
       "\n",
       "    .dataframe thead th {\n",
       "        text-align: right;\n",
       "    }\n",
       "</style>\n",
       "<table border=\"1\" class=\"dataframe\">\n",
       "  <thead>\n",
       "    <tr style=\"text-align: right;\">\n",
       "      <th></th>\n",
       "      <th>limb_movement</th>\n",
       "      <th>Sleeping_hours</th>\n",
       "      <th>Heart_rate</th>\n",
       "      <th>Stress_level</th>\n",
       "      <th>body_temperature</th>\n",
       "      <th>Blood_oxygen</th>\n",
       "    </tr>\n",
       "  </thead>\n",
       "  <tbody>\n",
       "    <tr>\n",
       "      <th>45</th>\n",
       "      <td>15</td>\n",
       "      <td>0.000</td>\n",
       "      <td>85</td>\n",
       "      <td>4</td>\n",
       "      <td>89.720</td>\n",
       "      <td>85.168</td>\n",
       "    </tr>\n",
       "    <tr>\n",
       "      <th>46</th>\n",
       "      <td>8</td>\n",
       "      <td>2.432</td>\n",
       "      <td>67</td>\n",
       "      <td>2</td>\n",
       "      <td>92.272</td>\n",
       "      <td>90.112</td>\n",
       "    </tr>\n",
       "    <tr>\n",
       "      <th>47</th>\n",
       "      <td>15</td>\n",
       "      <td>0.000</td>\n",
       "      <td>89</td>\n",
       "      <td>4</td>\n",
       "      <td>89.720</td>\n",
       "      <td>85.168</td>\n",
       "    </tr>\n",
       "    <tr>\n",
       "      <th>48</th>\n",
       "      <td>4</td>\n",
       "      <td>6.344</td>\n",
       "      <td>70</td>\n",
       "      <td>1</td>\n",
       "      <td>94.880</td>\n",
       "      <td>94.328</td>\n",
       "    </tr>\n",
       "    <tr>\n",
       "      <th>49</th>\n",
       "      <td>19</td>\n",
       "      <td>0.000</td>\n",
       "      <td>78</td>\n",
       "      <td>4</td>\n",
       "      <td>86.480</td>\n",
       "      <td>83.824</td>\n",
       "    </tr>\n",
       "  </tbody>\n",
       "</table>\n",
       "</div>"
      ],
      "text/plain": [
       "    limb_movement  Sleeping_hours  Heart_rate  Stress_level  body_temperature  \\\n",
       "45             15           0.000          85             4            89.720   \n",
       "46              8           2.432          67             2            92.272   \n",
       "47             15           0.000          89             4            89.720   \n",
       "48              4           6.344          70             1            94.880   \n",
       "49             19           0.000          78             4            86.480   \n",
       "\n",
       "    Blood_oxygen  \n",
       "45        85.168  \n",
       "46        90.112  \n",
       "47        85.168  \n",
       "48        94.328  \n",
       "49        83.824  "
      ]
     },
     "execution_count": 50,
     "metadata": {},
     "output_type": "execute_result"
    }
   ],
   "source": [
    "test.tail()"
   ]
  },
  {
   "cell_type": "code",
   "execution_count": 51,
   "metadata": {
    "colab": {
     "base_uri": "https://localhost:8080/",
     "height": 206
    },
    "id": "_VsVdSkrG4lV",
    "outputId": "d6ac5089-3db6-4e33-ab4e-5f1a21c87b3a"
   },
   "outputs": [
    {
     "data": {
      "text/html": [
       "<div>\n",
       "<style scoped>\n",
       "    .dataframe tbody tr th:only-of-type {\n",
       "        vertical-align: middle;\n",
       "    }\n",
       "\n",
       "    .dataframe tbody tr th {\n",
       "        vertical-align: top;\n",
       "    }\n",
       "\n",
       "    .dataframe thead th {\n",
       "        text-align: right;\n",
       "    }\n",
       "</style>\n",
       "<table border=\"1\" class=\"dataframe\">\n",
       "  <thead>\n",
       "    <tr style=\"text-align: right;\">\n",
       "      <th></th>\n",
       "      <th>body_temperature</th>\n",
       "      <th>limb_movement</th>\n",
       "      <th>Blood_oxygen</th>\n",
       "      <th>Sleeping_hours</th>\n",
       "      <th>Heart_rate</th>\n",
       "      <th>Stress_level</th>\n",
       "    </tr>\n",
       "  </thead>\n",
       "  <tbody>\n",
       "    <tr>\n",
       "      <th>0</th>\n",
       "      <td>91.392</td>\n",
       "      <td>16</td>\n",
       "      <td>89.840</td>\n",
       "      <td>1.840</td>\n",
       "      <td>70</td>\n",
       "      <td>3</td>\n",
       "    </tr>\n",
       "    <tr>\n",
       "      <th>1</th>\n",
       "      <td>91.664</td>\n",
       "      <td>20</td>\n",
       "      <td>89.680</td>\n",
       "      <td>1.552</td>\n",
       "      <td>95</td>\n",
       "      <td>3</td>\n",
       "    </tr>\n",
       "    <tr>\n",
       "      <th>2</th>\n",
       "      <td>96.000</td>\n",
       "      <td>20</td>\n",
       "      <td>95.000</td>\n",
       "      <td>7.000</td>\n",
       "      <td>65</td>\n",
       "      <td>1</td>\n",
       "    </tr>\n",
       "    <tr>\n",
       "      <th>3</th>\n",
       "      <td>91.200</td>\n",
       "      <td>20</td>\n",
       "      <td>88.976</td>\n",
       "      <td>0.768</td>\n",
       "      <td>89</td>\n",
       "      <td>3</td>\n",
       "    </tr>\n",
       "    <tr>\n",
       "      <th>4</th>\n",
       "      <td>98.376</td>\n",
       "      <td>7</td>\n",
       "      <td>96.552</td>\n",
       "      <td>8.248</td>\n",
       "      <td>72</td>\n",
       "      <td>0</td>\n",
       "    </tr>\n",
       "  </tbody>\n",
       "</table>\n",
       "</div>"
      ],
      "text/plain": [
       "   body_temperature  limb_movement  Blood_oxygen  Sleeping_hours  Heart_rate  \\\n",
       "0            91.392             16        89.840           1.840          70   \n",
       "1            91.664             20        89.680           1.552          95   \n",
       "2            96.000             20        95.000           7.000          65   \n",
       "3            91.200             20        88.976           0.768          89   \n",
       "4            98.376              7        96.552           8.248          72   \n",
       "\n",
       "   Stress_level  \n",
       "0             3  \n",
       "1             3  \n",
       "2             1  \n",
       "3             3  \n",
       "4             0  "
      ]
     },
     "execution_count": 51,
     "metadata": {},
     "output_type": "execute_result"
    }
   ],
   "source": [
    "test = test[['body_temperature','limb_movement','Blood_oxygen','Sleeping_hours','Heart_rate','Stress_level']]\n",
    "test.head()"
   ]
  },
  {
   "cell_type": "markdown",
   "metadata": {
    "id": "asdYLU3N6oNn"
   },
   "source": [
    "## Prediction"
   ]
  },
  {
   "cell_type": "code",
   "execution_count": 52,
   "metadata": {
    "id": "SPsvHfL7Hk-d"
   },
   "outputs": [],
   "source": [
    "Y_test = test['Stress_level']"
   ]
  },
  {
   "cell_type": "code",
   "execution_count": 53,
   "metadata": {
    "id": "XWtpv7zeHk-f"
   },
   "outputs": [],
   "source": [
    "X_test = test.drop(['Stress_level'],axis=1)"
   ]
  },
  {
   "cell_type": "code",
   "execution_count": 54,
   "metadata": {
    "colab": {
     "base_uri": "https://localhost:8080/"
    },
    "id": "TfQaH5hZIoGQ",
    "outputId": "516df223-be54-459f-b082-956a5ecbe316"
   },
   "outputs": [
    {
     "data": {
      "text/plain": [
       "array([[-0.2721947 ,  1.14053872, -0.27183777, -0.60940713,  0.97906569],\n",
       "       [-0.35385311,  0.97294936, -0.34569558, -0.70376694,  0.83371986],\n",
       "       [ 0.90731566, -0.39569711,  1.05144797,  1.08120619, -0.45420573],\n",
       "       ...,\n",
       "       [-1.67853398,  1.4086817 , -1.70385862, -1.21226149,  1.43932751],\n",
       "       [ 0.83019383, -0.45900864,  0.94681608,  0.99208859, -0.52284127],\n",
       "       [ 0.1678534 , -0.07169101,  0.12617376,  0.12712364, -0.1029533 ]])"
      ]
     },
     "execution_count": 54,
     "metadata": {},
     "output_type": "execute_result"
    }
   ],
   "source": [
    "X"
   ]
  },
  {
   "cell_type": "code",
   "execution_count": 55,
   "metadata": {
    "colab": {
     "base_uri": "https://localhost:8080/",
     "height": 206
    },
    "id": "H72j3EetHk-f",
    "outputId": "50c38909-49e1-4b90-c3dd-71151bdfff9b"
   },
   "outputs": [
    {
     "data": {
      "text/html": [
       "<div>\n",
       "<style scoped>\n",
       "    .dataframe tbody tr th:only-of-type {\n",
       "        vertical-align: middle;\n",
       "    }\n",
       "\n",
       "    .dataframe tbody tr th {\n",
       "        vertical-align: top;\n",
       "    }\n",
       "\n",
       "    .dataframe thead th {\n",
       "        text-align: right;\n",
       "    }\n",
       "</style>\n",
       "<table border=\"1\" class=\"dataframe\">\n",
       "  <thead>\n",
       "    <tr style=\"text-align: right;\">\n",
       "      <th></th>\n",
       "      <th>body_temperature</th>\n",
       "      <th>limb_movement</th>\n",
       "      <th>Blood_oxygen</th>\n",
       "      <th>Sleeping_hours</th>\n",
       "      <th>Heart_rate</th>\n",
       "    </tr>\n",
       "  </thead>\n",
       "  <tbody>\n",
       "    <tr>\n",
       "      <th>0</th>\n",
       "      <td>91.392</td>\n",
       "      <td>16</td>\n",
       "      <td>89.840</td>\n",
       "      <td>1.840</td>\n",
       "      <td>70</td>\n",
       "    </tr>\n",
       "    <tr>\n",
       "      <th>1</th>\n",
       "      <td>91.664</td>\n",
       "      <td>20</td>\n",
       "      <td>89.680</td>\n",
       "      <td>1.552</td>\n",
       "      <td>95</td>\n",
       "    </tr>\n",
       "    <tr>\n",
       "      <th>2</th>\n",
       "      <td>96.000</td>\n",
       "      <td>20</td>\n",
       "      <td>95.000</td>\n",
       "      <td>7.000</td>\n",
       "      <td>65</td>\n",
       "    </tr>\n",
       "    <tr>\n",
       "      <th>3</th>\n",
       "      <td>91.200</td>\n",
       "      <td>20</td>\n",
       "      <td>88.976</td>\n",
       "      <td>0.768</td>\n",
       "      <td>89</td>\n",
       "    </tr>\n",
       "    <tr>\n",
       "      <th>4</th>\n",
       "      <td>98.376</td>\n",
       "      <td>7</td>\n",
       "      <td>96.552</td>\n",
       "      <td>8.248</td>\n",
       "      <td>72</td>\n",
       "    </tr>\n",
       "  </tbody>\n",
       "</table>\n",
       "</div>"
      ],
      "text/plain": [
       "   body_temperature  limb_movement  Blood_oxygen  Sleeping_hours  Heart_rate\n",
       "0            91.392             16        89.840           1.840          70\n",
       "1            91.664             20        89.680           1.552          95\n",
       "2            96.000             20        95.000           7.000          65\n",
       "3            91.200             20        88.976           0.768          89\n",
       "4            98.376              7        96.552           8.248          72"
      ]
     },
     "execution_count": 55,
     "metadata": {},
     "output_type": "execute_result"
    }
   ],
   "source": [
    "X_test.head()"
   ]
  },
  {
   "cell_type": "code",
   "execution_count": 56,
   "metadata": {
    "id": "EVPOFbnIHk-h"
   },
   "outputs": [],
   "source": [
    "X_test = scaler.transform(X_test)"
   ]
  },
  {
   "cell_type": "markdown",
   "metadata": {},
   "source": [
    "#### Predicting Test results"
   ]
  },
  {
   "cell_type": "code",
   "execution_count": 57,
   "metadata": {
    "colab": {
     "base_uri": "https://localhost:8080/"
    },
    "id": "Rt6gWSWyHk-h",
    "outputId": "a7e98eba-45b0-4e85-98d4-73c77499901e"
   },
   "outputs": [
    {
     "name": "stdout",
     "output_type": "stream",
     "text": [
      "Accuracy score of training data :  0.64\n"
     ]
    }
   ],
   "source": [
    "X_test_prediction = lr.predict(X_test)\n",
    "test_data_accuracy_LR= accuracy_score(Y_test, X_test_prediction)\n",
    "print('Accuracy score of training data : ', test_data_accuracy_LR)"
   ]
  },
  {
   "cell_type": "markdown",
   "metadata": {},
   "source": [
    "## Predicting test data using random Forest "
   ]
  },
  {
   "cell_type": "code",
   "execution_count": 60,
   "metadata": {},
   "outputs": [
    {
     "data": {
      "text/plain": [
       "RandomForestClassifier(criterion='entropy', n_estimators=10, random_state=0)"
      ]
     },
     "execution_count": 60,
     "metadata": {},
     "output_type": "execute_result"
    }
   ],
   "source": [
    "from sklearn.ensemble import RandomForestClassifier\n",
    "classifier = RandomForestClassifier(n_estimators = 10, criterion = 'entropy', random_state = 0)\n",
    "classifier.fit(X, Y)"
   ]
  },
  {
   "cell_type": "code",
   "execution_count": 61,
   "metadata": {},
   "outputs": [
    {
     "name": "stdout",
     "output_type": "stream",
     "text": [
      "Accuracy score of training data :  0.92\n"
     ]
    }
   ],
   "source": [
    "X_test_prediction = classifier.predict(X_test)\n",
    "test_data_accuracy_RF= accuracy_score(Y_test, X_test_prediction)\n",
    "print('Accuracy score of training data : ', test_data_accuracy_RF)"
   ]
  },
  {
   "cell_type": "code",
   "execution_count": null,
   "metadata": {},
   "outputs": [],
   "source": []
  }
 ],
 "metadata": {
  "colab": {
   "provenance": []
  },
  "kernelspec": {
   "display_name": "Python 3",
   "language": "python",
   "name": "python3"
  },
  "language_info": {
   "codemirror_mode": {
    "name": "ipython",
    "version": 3
   },
   "file_extension": ".py",
   "mimetype": "text/x-python",
   "name": "python",
   "nbconvert_exporter": "python",
   "pygments_lexer": "ipython3",
   "version": "3.8.8"
  }
 },
 "nbformat": 4,
 "nbformat_minor": 1
}
